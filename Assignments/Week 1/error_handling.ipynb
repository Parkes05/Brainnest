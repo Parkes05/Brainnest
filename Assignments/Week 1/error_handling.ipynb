{
 "cells": [
  {
   "attachments": {},
   "cell_type": "markdown",
   "metadata": {},
   "source": [
    "1. Write a function that takes a list of integers as an argument, and returns the sum of the integers. Use a try-except block to catch any ValueError exceptions that may be raised when attempting to convert a string to an integer."
   ]
  },
  {
   "cell_type": "code",
   "execution_count": 1,
   "metadata": {},
   "outputs": [
    {
     "name": "stdout",
     "output_type": "stream",
     "text": [
      "10\n"
     ]
    }
   ],
   "source": [
    "def my_function(i):\n",
    "    try:\n",
    "        num = [int(j) for j in i] # convert string to integer\n",
    "    except ValueError:\n",
    "        print('Only integers are allowed')\n",
    "    sum_1 = sum(num)\n",
    "    return sum_1 # returns sum of the integers\n",
    "\n",
    "list = ['1','2','3','4']\n",
    "print(my_function(list))"
   ]
  },
  {
   "attachments": {},
   "cell_type": "markdown",
   "metadata": {},
   "source": [
    "2. Write a function that takes a filename as an argument, and attempts to open the file. Use a try-except block to catch any FileNotFoundError exceptions that may be raised when attempting to open the file. If the file is successfully opened, the function should return the contents of the file."
   ]
  },
  {
   "cell_type": "code",
   "execution_count": 2,
   "metadata": {},
   "outputs": [
    {
     "name": "stdout",
     "output_type": "stream",
     "text": [
      "yes\n"
     ]
    }
   ],
   "source": [
    "def function(i):\n",
    "        try:\n",
    "            return open(i, 'r').read() #opens, reads the file and returns the content\n",
    "        except FileNotFoundError: \n",
    "            print('Error, file not found')\n",
    "    \n",
    "file = 'parkes.txt'\n",
    "print(function(file))"
   ]
  },
  {
   "attachments": {},
   "cell_type": "markdown",
   "metadata": {},
   "source": [
    "3. Write a function that takes a list of strings as an argument, and returns a new list containing only the strings that can be successfully converted to a float. Use a try-except block to catch any ValueError exceptions that may be raised when attempting to convert a string to a float."
   ]
  },
  {
   "cell_type": "code",
   "execution_count": 15,
   "metadata": {},
   "outputs": [
    {
     "name": "stdout",
     "output_type": "stream",
     "text": [
      "[1.0, 3.0, 6.0, 7.0]\n"
     ]
    }
   ],
   "source": [
    "def funct(j):\n",
    "    x  = []\n",
    "    try:\n",
    "        for i in j:\n",
    "            x.append(float(i))\n",
    "        return(x)\n",
    "    except ValueError:\n",
    "        print('Only numbers accepted')\n",
    "    \n",
    "list = [1,'r', 6, '7']\n",
    "print(funct(list))"
   ]
  },
  {
   "attachments": {},
   "cell_type": "markdown",
   "metadata": {},
   "source": [
    "4. Write a function that takes a list of dictionaries as an argument, and returns the value of a specified key from each dictionary. Use a try-except block to catch any KeyError exceptions that may be raised when attempting to access a key that does not exist in a dictionary."
   ]
  },
  {
   "cell_type": "code",
   "execution_count": 2,
   "metadata": {},
   "outputs": [
    {
     "name": "stdout",
     "output_type": "stream",
     "text": [
      "Key not found\n",
      "None\n"
     ]
    }
   ],
   "source": [
    "def fun(i):\n",
    "    value_1 = []\n",
    "    key_1 = input('Enter the key: ')\n",
    "    try:\n",
    "        for i in i:\n",
    "            value_1.append(i[key_1])\n",
    "        return value_1\n",
    "    except KeyError:\n",
    "        print('Key not found')\n",
    "\n",
    "dict = [{'name' : 'chike','age' : 12,'weight' : 12,},\n",
    "           {'name' : 'chris','age' : 14,'weight' : 45,}]\n",
    "\n",
    "print(fun(dict))"
   ]
  },
  {
   "attachments": {},
   "cell_type": "markdown",
   "metadata": {},
   "source": [
    "5. Write a function that takes a list of integers as an argument, and returns the largest integer in the list. Use a try-except block to catch any ValueError exceptions that may be raised when attempting to compare elements that are not integers."
   ]
  },
  {
   "cell_type": "code",
   "execution_count": 1,
   "metadata": {},
   "outputs": [
    {
     "name": "stdout",
     "output_type": "stream",
     "text": [
      "Sorry, only integers are allowed\n",
      "None\n"
     ]
    }
   ],
   "source": [
    "def f(num):\n",
    "    try:\n",
    "        num_1 = [int(i) for i in num]\n",
    "        return max(num_1)\n",
    "    except ValueError:\n",
    "        print('Sorry, only integers are allowed')\n",
    "\n",
    "num = [1,2,'d',4,5]\n",
    "print(f(num))"
   ]
  }
 ],
 "metadata": {
  "kernelspec": {
   "display_name": "Python 3",
   "language": "python",
   "name": "python3"
  },
  "language_info": {
   "codemirror_mode": {
    "name": "ipython",
    "version": 3
   },
   "file_extension": ".py",
   "mimetype": "text/x-python",
   "name": "python",
   "nbconvert_exporter": "python",
   "pygments_lexer": "ipython3",
   "version": "3.10.7"
  },
  "orig_nbformat": 4,
  "vscode": {
   "interpreter": {
    "hash": "52b1b21efe49a325aa6e80bcc8cd3d533fb7962068e452371aaa8868ec796175"
   }
  }
 },
 "nbformat": 4,
 "nbformat_minor": 2
}
