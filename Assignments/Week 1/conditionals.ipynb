{
 "cells": [
  {
   "attachments": {},
   "cell_type": "markdown",
   "metadata": {},
   "source": [
    "1. Write a program that prompts the user for a string and checks whether the string is a palindrome (i.e., the string reads the same forward and backward)."
   ]
  },
  {
   "cell_type": "code",
   "execution_count": 13,
   "metadata": {},
   "outputs": [
    {
     "name": "stdout",
     "output_type": "stream",
     "text": [
      "The word is not a palindrome\n"
     ]
    }
   ],
   "source": [
    "string = input('Enter a string: ')\n",
    "string_1 = string[::-1]\n",
    "if string == string_1:\n",
    "    print('The word is a palindrome')\n",
    "else:\n",
    "    print('The word is not a palindrome')"
   ]
  },
  {
   "attachments": {},
   "cell_type": "markdown",
   "metadata": {},
   "source": [
    "2. Write a program that takes in a list of integers and returns the sum of all even numbers in the list."
   ]
  },
  {
   "cell_type": "code",
   "execution_count": 16,
   "metadata": {},
   "outputs": [
    {
     "name": "stdout",
     "output_type": "stream",
     "text": [
      "24\n"
     ]
    }
   ],
   "source": [
    "num = input('Enter a list of numbers: ')\n",
    "list = []\n",
    "try:\n",
    "    num_1 = [int(i) for i in num]\n",
    "    for j in num_1:\n",
    "        if j%2 == 0:\n",
    "            list.append(j)\n",
    "        else:\n",
    "            continue\n",
    "except:\n",
    "    raise TypeError('Only integers are allowed')\n",
    "print(sum(list))"
   ]
  },
  {
   "attachments": {},
   "cell_type": "markdown",
   "metadata": {},
   "source": [
    "3. Write a program that prompts the user for their age and checks whether they are old enough to vote (i.e., 18 years old or older)."
   ]
  },
  {
   "cell_type": "code",
   "execution_count": 2,
   "metadata": {},
   "outputs": [
    {
     "name": "stdout",
     "output_type": "stream",
     "text": [
      "You cannot vote\n"
     ]
    }
   ],
   "source": [
    "age = input('Please enter your age')\n",
    "try:\n",
    "    if int(age)>=18:\n",
    "        print('You can vote')\n",
    "    else:\n",
    "        print('You cannot vote')\n",
    "except:\n",
    "    raise TypeError('Only integers are allowed')"
   ]
  },
  {
   "attachments": {},
   "cell_type": "markdown",
   "metadata": {},
   "source": [
    "4. Write a program that takes in a list of integers and returns the largest number in the list that is also divisible by 3."
   ]
  },
  {
   "cell_type": "code",
   "execution_count": 3,
   "metadata": {},
   "outputs": [
    {
     "name": "stdout",
     "output_type": "stream",
     "text": [
      "9\n"
     ]
    }
   ],
   "source": [
    "list = [1,2,3,4,5,6,7,8,9,10]\n",
    "sol = []\n",
    "for i in list:\n",
    "    if i%3 == 0:\n",
    "        sol.append(i)\n",
    "    else:\n",
    "        continue\n",
    "print(max(sol))"
   ]
  },
  {
   "attachments": {},
   "cell_type": "markdown",
   "metadata": {},
   "source": [
    "5. Write a program that prompts the user for a number and checks whether the number is a prime number (i.e., only divisible by 1 and itself)."
   ]
  },
  {
   "cell_type": "code",
   "execution_count": 6,
   "metadata": {},
   "outputs": [
    {
     "name": "stdout",
     "output_type": "stream",
     "text": [
      "The number is not a prime number\n"
     ]
    }
   ],
   "source": [
    "a = 0\n",
    "num = int(input('Enter a number'))\n",
    "if num == 1:\n",
    "    print('The number is not a prime number') \n",
    "else:\n",
    "    for i in range(2,num):\n",
    "        if num%i == 0:\n",
    "            a = 1\n",
    "            break\n",
    "    if a == 1:\n",
    "        print('The number is not a prime number')\n",
    "    else:\n",
    "        print('The number is a prime number')"
   ]
  }
 ],
 "metadata": {
  "kernelspec": {
   "display_name": "Python 3",
   "language": "python",
   "name": "python3"
  },
  "language_info": {
   "codemirror_mode": {
    "name": "ipython",
    "version": 3
   },
   "file_extension": ".py",
   "mimetype": "text/x-python",
   "name": "python",
   "nbconvert_exporter": "python",
   "pygments_lexer": "ipython3",
   "version": "3.10.7"
  },
  "orig_nbformat": 4,
  "vscode": {
   "interpreter": {
    "hash": "52b1b21efe49a325aa6e80bcc8cd3d533fb7962068e452371aaa8868ec796175"
   }
  }
 },
 "nbformat": 4,
 "nbformat_minor": 2
}
